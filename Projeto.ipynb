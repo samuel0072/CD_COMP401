{
 "cells": [
  {
   "cell_type": "code",
   "execution_count": 13,
   "id": "b7301be2",
   "metadata": {},
   "outputs": [],
   "source": [
    "import pandas as pd\n",
    "import numpy as np\n",
    "import traceback\n",
    "import datetime\n",
    "import sys\n",
    "import locale\n",
    "from sklearn import preprocessing\n",
    "from sklearn.cluster import KMeans\n",
    "import seaborn as sns\n",
    "import matplotlib.pyplot as plt\n",
    "from statsmodels.tsa.stattools import adfuller"
   ]
  },
  {
   "cell_type": "code",
   "execution_count": 14,
   "id": "aff6e4f4",
   "metadata": {},
   "outputs": [],
   "source": [
    "np.set_printoptions(threshold=sys.maxsize)\n",
    "pd.set_option('display.max_columns', None)\n",
    "plt.rcParams[\"figure.figsize\"] = (17,6.5)"
   ]
  },
  {
   "cell_type": "markdown",
   "id": "69a6c402",
   "metadata": {},
   "source": [
    "# Importar Datasets"
   ]
  },
  {
   "cell_type": "code",
   "execution_count": 15,
   "id": "37149bfe",
   "metadata": {},
   "outputs": [],
   "source": [
    "def import_data():\n",
    "    path = \"Datasets/\"#diretório dos datasets\n",
    "    \n",
    "    # --------- as linhas abaixo servem para gerar o nome dos arquivos automaticamente\n",
    "    prefix = \"ABONOP_\"#prefixo comun a todos os arquivos\n",
    "    months = ['01', '02', '03', '04', '05', '06', '07', '08', '09', '10', '11', '12']#meses presentes\n",
    "    years = [\"2017\", \"2018\", \"2019\", \"2020\"]#anos presentes\n",
    "    ext = \".csv\"#extensão dos arquivos\n",
    "    \n",
    "    # ------------------------\n",
    "    \n",
    "    columns = [\"Nome\", \"CPF\", \"Descrição do cargo emprego\", \"Nível de Escolaridade\", \"Denominação do órgão de atuação\",\n",
    "              \"UF da UPAG de vinculação\", \"Denominação unidade organizacional\", \"UF da Residência\",\n",
    "              \"Cidade da residência\", \"Situação servidor\", \"Quantidade de anos no Serviço público\",\n",
    "              \"Quantidade de meses no Serviço público\",\"Ano/Mês inicial DO ABONO DE PERMANENCIA\",\"VAL\"] #colunas presentes\n",
    "    \n",
    "    date_columns = [\"Ano/Mês inicial DO ABONO DE PERMANENCIA\"]#colunas que devem ser transformadas em datas, porém no dataset estão como inteiros\n",
    "    float_columns = {\"VAL\":np.float64}#coluna númerica\n",
    "    \n",
    "    datasets = []#esta variavel vai ser usada como uma lista de DataFrames importados\n",
    "    sep = \";\"#separador utilizado nos arquivos\n",
    "    decimal = \".\"#valores decimais são separados por virgula\n",
    "    try:\n",
    "        name = \"\"\n",
    "        for i in years:# esse loop vai importar os datasets ano a ano\n",
    "            for j in months:# esse loop vai importar os datasets mês a mês\n",
    "                name = path + prefix + j + i + ext# concatena as informações do arquivo para formar seu nome\n",
    "\n",
    "                df = pd.read_csv(name, sep =sep, low_memory = False,\n",
    "                                names = columns, header = 0,\n",
    "                                #warn_bad_lines = True\n",
    "                                encoding = 'cp1252', index_col=False)#ver documentação do pandas\n",
    "                date = datetime.date(int(i), int(j), 1)#cria uma data do tipo 1/j/i\n",
    "                df[\"DATE\"] = [date for k in range(df.shape[0])]#adiciona uma coluna com a data\n",
    "                datasets.append(df)\n",
    "    except Exception as e:#ocorreu algum exceção\n",
    "        traceback.print_exc()#printa a pilha de execução\n",
    "        print(\"Erro na planilha: {}\".format(name))#printa a plainlha que ocorreu o erro\n",
    "    finally:\n",
    "        if len(datasets) > 0:\n",
    "            datasets = pd.concat(datasets)#concatena os datasets que foram importados com sucesso\n",
    "            #datasets.drop_duplicates(subset = columns, inplace = True)#tira as colunas duplicadas, não considera a coluna DATE\n",
    "            \n",
    "            datasets.reset_index(inplace = True)\n",
    "            datasets.drop(columns = [\"index\"], inplace = True)\n",
    "            \n",
    "        return datasets"
   ]
  },
  {
   "cell_type": "code",
   "execution_count": 16,
   "id": "5dd8d9fd",
   "metadata": {},
   "outputs": [],
   "source": [
    "def import_dataset(name, sep = \",\", columns = []):\n",
    "    df = pd.read_csv(name, sep =sep, #low_memory = False,\n",
    "                    names = columns, header = 0,\n",
    "                    #warn_bad_lines = True\n",
    "                   index_col=False)#ver documentação do pandas\n",
    "    return df"
   ]
  },
  {
   "cell_type": "code",
   "execution_count": 17,
   "id": "3af4befa",
   "metadata": {},
   "outputs": [],
   "source": [
    "abono_dataset = import_data()"
   ]
  },
  {
   "cell_type": "code",
   "execution_count": 18,
   "id": "abcfb1fd",
   "metadata": {
    "scrolled": true
   },
   "outputs": [
    {
     "name": "stderr",
     "output_type": "stream",
     "text": [
      "C:\\Users\\samue\\anaconda3\\lib\\site-packages\\pandas\\util\\_decorators.py:311: ParserWarning: Length of header or names does not match length of data. This leads to a loss of data with index_col=False.\n",
      "  return func(*args, **kwargs)\n"
     ]
    }
   ],
   "source": [
    "cidades_dataset = import_dataset(\"Datasets/municipios.csv\", sep = \";\", columns = [\"ConcatUF+Mun\", \"IBGE\", \"IBGE7\", \"UF\", \"Município\", \n",
    "                                               \"Região\", \"População 2010\", \"Porte\", \"Capital\"])"
   ]
  },
  {
   "cell_type": "markdown",
   "id": "0dbdc6bf",
   "metadata": {},
   "source": [
    "# Retirar espaços em branco em excesso e alguns ajustes"
   ]
  },
  {
   "cell_type": "code",
   "execution_count": 19,
   "id": "038747ac",
   "metadata": {},
   "outputs": [],
   "source": [
    "def clean_spaces(df, text_columns, number_columns):\n",
    "    #retira os espaços em branco e coloca todos os caracteres em caixa baixa\n",
    "    new_df = df.applymap(\n",
    "        lambda x: \" \".join( x.split() ).lower() if isinstance(x, str) else x, \n",
    "        na_action = 'ignore')\n",
    "    del df\n",
    "    #troca todas as ',' por '.'\n",
    "    new_df[number_columns] = new_df[number_columns].applymap(\n",
    "        lambda x: \".\".join(x.split(\",\")) if isinstance(x, str) else x, \n",
    "        na_action = 'ignore')\n",
    "    \n",
    "    return new_df"
   ]
  },
  {
   "cell_type": "code",
   "execution_count": 21,
   "id": "d1e8dadc",
   "metadata": {},
   "outputs": [],
   "source": [
    "text_columns = [\"Nome\", \"CPF\", \"Descrição do cargo emprego\", \"Nível de Escolaridade\", \"Denominação do órgão de atuação\",\n",
    "              \"UF da UPAG de vinculação\", \"Denominação unidade organizacional\", \"UF da Residência\",\n",
    "              \"Cidade da residência\", \"Situação servidor\"]\n",
    "number_columns = [\"Quantidade de anos no Serviço público\",\"Quantidade de meses no Serviço público\",\n",
    "                  \"Ano/Mês inicial DO ABONO DE PERMANENCIA\",\"VAL\"]\n",
    "abono_dataset = clean_spaces(abono_dataset, text_columns, number_columns)"
   ]
  },
  {
   "cell_type": "code",
   "execution_count": 22,
   "id": "c4fe9543",
   "metadata": {},
   "outputs": [],
   "source": [
    "dtypes = {\n",
    "    \"Quantidade de anos no Serviço público\": int,\n",
    "    \"Quantidade de meses no Serviço público\": int,\n",
    "    \"VAL\": np.float64\n",
    "}\n",
    "abono_dataset = abono_dataset.astype(dtypes)"
   ]
  },
  {
   "cell_type": "markdown",
   "id": "88819900",
   "metadata": {},
   "source": [
    "# Corrigir coluna Cidade da residência"
   ]
  },
  {
   "cell_type": "code",
   "execution_count": 23,
   "id": "79f4a2f6",
   "metadata": {},
   "outputs": [],
   "source": [
    "def distancia_hamming(string1, string2):\n",
    "    \"\"\"\n",
    "    Calcula a distancia de hamming entre as strings de entrada\n",
    "    \"\"\"\n",
    "    #código de https://stackoverflow.com/questions/54172831/hamming-distance-between-two-strings-in-python\n",
    "    return sum(c1 != c2 for c1, c2 in zip(string1, string2))"
   ]
  },
  {
   "cell_type": "code",
   "execution_count": 24,
   "id": "2a0138c2",
   "metadata": {},
   "outputs": [],
   "source": [
    "def corrige_cidade(cidades_do_estado , cidade):\n",
    "    \"\"\"\n",
    "    Essa função corrige a cidade dada por uma na lista cidades_do_estado\n",
    "    A função de distancia de hamming é utilizada como critério para escolha\n",
    "    O algoritmo escolhe o elemento com menor distância de hamming da lista cidades_do_estado\n",
    "    com cidade\n",
    "    \"\"\"\n",
    "    if cidade in cidades_do_estado:#verifica se a cidade já existe na lista\n",
    "        return cidade\n",
    "    else:#se não ela vai ser processada\n",
    "        cid_min = \"\"#inicializa a cidade com distancia de hamming minima\n",
    "        distancia_min = 999999#inicializa a minima distancia de hamming encontrada\n",
    "        for cid in cidades_do_estado:#percorre todas as cidades do estado\n",
    "            distancia = distancia_hamming(cid, cidade)#calcula a distancia entre a cidade atual e a cidade informada\n",
    "            if distancia < distancia_min:\n",
    "                #se essa distancia for menor que a minima até agora\n",
    "                #então é feita uma substituição\n",
    "                cid_min = cid\n",
    "                distancia_min = distancia\n",
    "        return cid_min#retorna a cidade com distancia minima encontrada"
   ]
  },
  {
   "cell_type": "code",
   "execution_count": 25,
   "id": "73a59871",
   "metadata": {},
   "outputs": [],
   "source": [
    "estados = set(cidades_dataset[\"UF\"].to_list())\n",
    "cidades_por_estado = dict()\n",
    "for estado in estados:#organiza um diciionário de cidades por estado\n",
    "    cds = cidades_dataset.loc[cidades_dataset[\"UF\"] == estado][\"Município\"].to_list()\n",
    "    cidades_por_estado[estado] = list(map(lambda x: x.lower(), cds))"
   ]
  },
  {
   "cell_type": "code",
   "execution_count": 26,
   "id": "dafac8aa",
   "metadata": {},
   "outputs": [],
   "source": [
    "#realiza correção das cidades\n",
    "idx_cidade = 9#indice da coluna cidade\n",
    "idx_uf = 8#indice da coluna uf\n",
    "mudancas = []#esse array vai salvando as correçoes de cada linha\n",
    "cache = dict()#dicionario de cache para poupar processamento\n",
    "for row in abono_dataset.itertuples():\n",
    "    uf = row[idx_uf].upper()#transforma em caixa alta pois as chaves em cidades_por_estado estão em caixa alta, \n",
    "    if uf in cidades_por_estado:# se a uf da linha existe no diciionario de cidades_por_estado\n",
    "        \n",
    "        cd_desconhecida = row[idx_cidade]\n",
    "        cidade = \"\"\n",
    "        if cd_desconhecida in cache:#verifica se a cidade já foi processada\n",
    "            cidade = cache[cd_desconhecida]#recupera o resultado\n",
    "        else:#se não foi\n",
    "            cidades = cidades_por_estado[uf]#obtem as cidades do estado daquela linha\n",
    "            cidade = corrige_cidade(cidades, cd_desconhecida)#corrige a cidade\n",
    "            cache[cd_desconhecida] = cidade#salva o resultado na cache\n",
    "        mudancas.append(cidade)#adiciona na lista de mudancas\n",
    "    else:# se não existe não faz nenhum processamento\n",
    "        mudancas.append(row[idx_cidade])\n",
    "        #print(row[idx_cidade], cidade)\n",
    "        \n",
    "abono_dataset[\"Cidade da residência\"] = pd.Series(data = mudancas)"
   ]
  },
  {
   "cell_type": "markdown",
   "id": "03662062",
   "metadata": {},
   "source": [
    "# Corrigir coluna Nível de Escolaridade"
   ]
  },
  {
   "cell_type": "code",
   "execution_count": 27,
   "id": "9216868d",
   "metadata": {
    "scrolled": true
   },
   "outputs": [],
   "source": [
    "#realiza correção do nível de escolaridade\n",
    "idx_escolaridade = 4#indice da coluna Nível de Escolaridade\n",
    "\n",
    "mud_escolaridade = {\n",
    "    \"segundo grau incompleto\": \"ensino medio incompleto\",\n",
    "    \"4a. serie do primeiro grau completa\": \"ensino fundamental incompleto\",\n",
    "    \"primeiro grau incomp.-ate a 4a.serie incomp.\": \"ensino fundamental incompleto\"\n",
    "}\n",
    "mudancas =[]\n",
    "for row in abono_dataset.itertuples():\n",
    "    if row[idx_escolaridade] in mud_escolaridade:\n",
    "        mudancas.append(mud_escolaridade[row[idx_escolaridade]])\n",
    "    else:\n",
    "         mudancas.append(row[idx_escolaridade])\n",
    "abono_dataset[\"Nível de Escolaridade\"] = pd.Series(data = mudancas)"
   ]
  },
  {
   "cell_type": "markdown",
   "id": "55476359",
   "metadata": {},
   "source": [
    "# Corrigir coluna Ano/Mês inicial DO ABONO DE PERMANENCIA\t"
   ]
  },
  {
   "cell_type": "code",
   "execution_count": 28,
   "id": "924f7c51",
   "metadata": {},
   "outputs": [],
   "source": [
    "#converte a coluna para datetime.date"
   ]
  },
  {
   "cell_type": "code",
   "execution_count": 29,
   "id": "02e4122a",
   "metadata": {},
   "outputs": [],
   "source": [
    "def converte_int_date(df, coluna):\n",
    "    \"\"\"Transforma a coluna de inteiros em datas\"\"\"\n",
    "    df[coluna] = df[coluna].apply(lambda x: datetime.date(x//100, x%100, 1) if isinstance(x, int) else x)#coloca o dia como 1 por padrão"
   ]
  },
  {
   "cell_type": "code",
   "execution_count": 30,
   "id": "f278ba23",
   "metadata": {},
   "outputs": [],
   "source": [
    "converte_int_date(abono_dataset, \"Ano/Mês inicial DO ABONO DE PERMANENCIA\")"
   ]
  },
  {
   "cell_type": "markdown",
   "id": "6e7fd659",
   "metadata": {},
   "source": [
    "# Codificação de campos strings para inteiros"
   ]
  },
  {
   "cell_type": "markdown",
   "id": "b094bf55",
   "metadata": {},
   "source": [
    "### UF da Residência"
   ]
  },
  {
   "cell_type": "code",
   "execution_count": 31,
   "id": "5fb61cc4",
   "metadata": {},
   "outputs": [],
   "source": [
    "le = preprocessing.LabelEncoder()\n",
    "le.fit(abono_dataset[\"UF da Residência\"])\n",
    "abono_dataset[\"UF da Residência\"] = le.transform(abono_dataset[\"UF da Residência\"])"
   ]
  },
  {
   "cell_type": "markdown",
   "id": "a2f3c8f4",
   "metadata": {},
   "source": [
    "### Situação servidor"
   ]
  },
  {
   "cell_type": "code",
   "execution_count": 32,
   "id": "433f3b1f",
   "metadata": {},
   "outputs": [],
   "source": [
    "le = preprocessing.LabelEncoder()\n",
    "le.fit(abono_dataset[\"Situação servidor\"])\n",
    "abono_dataset[\"Situação servidor\"] = le.transform(abono_dataset[\"Situação servidor\"])"
   ]
  },
  {
   "cell_type": "markdown",
   "id": "235d6667",
   "metadata": {},
   "source": [
    "### Cidade da residência"
   ]
  },
  {
   "cell_type": "code",
   "execution_count": 33,
   "id": "cd3f9234",
   "metadata": {},
   "outputs": [],
   "source": [
    "le = preprocessing.LabelEncoder()\n",
    "le.fit(abono_dataset[\"Cidade da residência\"])\n",
    "abono_dataset[\"Cidade da residência\"] = le.transform(abono_dataset[\"Cidade da residência\"])"
   ]
  },
  {
   "cell_type": "markdown",
   "id": "4445c4e6",
   "metadata": {},
   "source": [
    "### Nível de Escolaridade"
   ]
  },
  {
   "cell_type": "code",
   "execution_count": 34,
   "id": "8bd9d780",
   "metadata": {},
   "outputs": [],
   "source": [
    "le = preprocessing.LabelEncoder()\n",
    "le.fit(abono_dataset[\"Nível de Escolaridade\"])\n",
    "abono_dataset[\"Nível de Escolaridade\"] = le.transform(abono_dataset[\"Nível de Escolaridade\"])"
   ]
  },
  {
   "cell_type": "markdown",
   "id": "a44edfbd",
   "metadata": {},
   "source": [
    "# Adiciona coluna meses com abono"
   ]
  },
  {
   "cell_type": "code",
   "execution_count": 35,
   "id": "d2fca8ff",
   "metadata": {},
   "outputs": [],
   "source": [
    "def sub_date(data_init = None, data_fim = None):\n",
    "    meses = 0\n",
    "    if (data_init != None) and (data_fim != None):\n",
    "        anos = data_fim.year - data_init.year#diferença de anos\n",
    "        meses = (data_fim.month - data_init.month + 1) + (anos*12)#quantos meses se passou da data final + quantidade de meses da passagem de anos\n",
    "    return meses"
   ]
  },
  {
   "cell_type": "code",
   "execution_count": 36,
   "id": "cb519987",
   "metadata": {},
   "outputs": [],
   "source": [
    "idx_init = 13#indice Ano/Mês inicial DO ABONO DE PERMANENCIA\n",
    "idx_date = 15#indice DATE\n",
    "meses =[]\n",
    "for row in abono_dataset.itertuples():\n",
    "    meses.append(sub_date( data_init = row[idx_init], data_fim = row[idx_date]))\n",
    "    \n",
    "abono_dataset[\"Meses com abono\"] = pd.Series(data = meses)"
   ]
  },
  {
   "cell_type": "markdown",
   "id": "9462b46f",
   "metadata": {},
   "source": [
    "# Ordena e usa a coluna Meses com abono como índice"
   ]
  },
  {
   "cell_type": "code",
   "execution_count": 37,
   "id": "bf55c1e9",
   "metadata": {},
   "outputs": [],
   "source": [
    "abono_dataset.sort_values(\"Meses com abono\", inplace = True, kind = \"mergesort\", ignore_index = True)"
   ]
  },
  {
   "cell_type": "code",
   "execution_count": 38,
   "id": "e8a5f786",
   "metadata": {},
   "outputs": [],
   "source": [
    "abono_dataset.set_index(\"Meses com abono\", inplace = True)"
   ]
  },
  {
   "cell_type": "markdown",
   "id": "3f476850",
   "metadata": {},
   "source": [
    "# Análise com K-means"
   ]
  },
  {
   "cell_type": "code",
   "execution_count": 39,
   "id": "f1923b51",
   "metadata": {},
   "outputs": [],
   "source": [
    "n_clusters = 8\n",
    "colunas_interesse = [\"Nível de Escolaridade\", \"UF da Residência\", \"Cidade da residência\",\n",
    "                    \"Situação servidor\", \"Quantidade de anos no Serviço público\", \"Quantidade de meses no Serviço público\",\n",
    "                    \"VAL\", \"Meses com abono\"]"
   ]
  },
  {
   "cell_type": "code",
   "execution_count": 40,
   "id": "5fd3077b",
   "metadata": {},
   "outputs": [],
   "source": [
    "#kmeans = KMeans(n_clusters=n_clusters, random_state=0).fit(abono_dataset[colunas_interesse])"
   ]
  },
  {
   "cell_type": "code",
   "execution_count": 41,
   "id": "c768e9f5",
   "metadata": {},
   "outputs": [],
   "source": [
    "#kmeans.cluster_centers_"
   ]
  },
  {
   "cell_type": "code",
   "execution_count": 42,
   "id": "41598534",
   "metadata": {},
   "outputs": [],
   "source": [
    "#abono_dataset[\"Group\"] = kmeans.labels_"
   ]
  },
  {
   "cell_type": "code",
   "execution_count": 43,
   "id": "0aedb908",
   "metadata": {},
   "outputs": [],
   "source": [
    "# Analise com o K-medoids"
   ]
  },
  {
   "cell_type": "markdown",
   "id": "075267e2",
   "metadata": {},
   "source": [
    "# Testes"
   ]
  },
  {
   "cell_type": "code",
   "execution_count": 47,
   "id": "73bce3ca",
   "metadata": {},
   "outputs": [
    {
     "data": {
      "text/html": [
       "<div>\n",
       "<style scoped>\n",
       "    .dataframe tbody tr th:only-of-type {\n",
       "        vertical-align: middle;\n",
       "    }\n",
       "\n",
       "    .dataframe tbody tr th {\n",
       "        vertical-align: top;\n",
       "    }\n",
       "\n",
       "    .dataframe thead th {\n",
       "        text-align: right;\n",
       "    }\n",
       "</style>\n",
       "<table border=\"1\" class=\"dataframe\">\n",
       "  <thead>\n",
       "    <tr style=\"text-align: right;\">\n",
       "      <th></th>\n",
       "      <th>Nome</th>\n",
       "      <th>CPF</th>\n",
       "      <th>Descrição do cargo emprego</th>\n",
       "      <th>Nível de Escolaridade</th>\n",
       "      <th>Denominação do órgão de atuação</th>\n",
       "      <th>UF da UPAG de vinculação</th>\n",
       "      <th>Denominação unidade organizacional</th>\n",
       "      <th>UF da Residência</th>\n",
       "      <th>Cidade da residência</th>\n",
       "      <th>Situação servidor</th>\n",
       "      <th>Quantidade de anos no Serviço público</th>\n",
       "      <th>Quantidade de meses no Serviço público</th>\n",
       "      <th>Ano/Mês inicial DO ABONO DE PERMANENCIA</th>\n",
       "      <th>VAL</th>\n",
       "      <th>DATE</th>\n",
       "    </tr>\n",
       "    <tr>\n",
       "      <th>Meses com abono</th>\n",
       "      <th></th>\n",
       "      <th></th>\n",
       "      <th></th>\n",
       "      <th></th>\n",
       "      <th></th>\n",
       "      <th></th>\n",
       "      <th></th>\n",
       "      <th></th>\n",
       "      <th></th>\n",
       "      <th></th>\n",
       "      <th></th>\n",
       "      <th></th>\n",
       "      <th></th>\n",
       "      <th></th>\n",
       "      <th></th>\n",
       "    </tr>\n",
       "  </thead>\n",
       "  <tbody>\n",
       "    <tr>\n",
       "      <th>1</th>\n",
       "      <td>silvia berton</td>\n",
       "      <td>***898018**</td>\n",
       "      <td>analista tributario rec federal brasil</td>\n",
       "      <td>4</td>\n",
       "      <td>ministerio da fazenda</td>\n",
       "      <td>sp</td>\n",
       "      <td>sup regional receita federal/8a.rf/srf</td>\n",
       "      <td>26</td>\n",
       "      <td>2577</td>\n",
       "      <td>4</td>\n",
       "      <td>31</td>\n",
       "      <td>6</td>\n",
       "      <td>2017-01-01</td>\n",
       "      <td>1638.28</td>\n",
       "      <td>2017-01-01</td>\n",
       "    </tr>\n",
       "    <tr>\n",
       "      <th>1</th>\n",
       "      <td>francisco ferreira dos santos</td>\n",
       "      <td>***718473**</td>\n",
       "      <td>agente de portaria</td>\n",
       "      <td>4</td>\n",
       "      <td>ministerio da fazenda</td>\n",
       "      <td>pi</td>\n",
       "      <td>superintendencia de administracao mf/pi</td>\n",
       "      <td>17</td>\n",
       "      <td>2662</td>\n",
       "      <td>4</td>\n",
       "      <td>37</td>\n",
       "      <td>6</td>\n",
       "      <td>2017-01-01</td>\n",
       "      <td>566.27</td>\n",
       "      <td>2017-01-01</td>\n",
       "    </tr>\n",
       "    <tr>\n",
       "      <th>1</th>\n",
       "      <td>leticia maria furtado dos santos</td>\n",
       "      <td>***458762**</td>\n",
       "      <td>agente de vigilancia</td>\n",
       "      <td>6</td>\n",
       "      <td>ministerio da fazenda</td>\n",
       "      <td>pa</td>\n",
       "      <td>superintendencia de administracao mf/pa</td>\n",
       "      <td>14</td>\n",
       "      <td>332</td>\n",
       "      <td>4</td>\n",
       "      <td>33</td>\n",
       "      <td>8</td>\n",
       "      <td>2017-01-01</td>\n",
       "      <td>579.93</td>\n",
       "      <td>2017-01-01</td>\n",
       "    </tr>\n",
       "    <tr>\n",
       "      <th>1</th>\n",
       "      <td>ubirajara carneiro junior</td>\n",
       "      <td>***059943**</td>\n",
       "      <td>auditor-fiscal da receita federal brasil</td>\n",
       "      <td>6</td>\n",
       "      <td>ministerio da fazenda</td>\n",
       "      <td>ce</td>\n",
       "      <td>sup regional receita federal/3a.rf/srf</td>\n",
       "      <td>6</td>\n",
       "      <td>968</td>\n",
       "      <td>4</td>\n",
       "      <td>32</td>\n",
       "      <td>9</td>\n",
       "      <td>2017-01-01</td>\n",
       "      <td>3206.31</td>\n",
       "      <td>2017-01-01</td>\n",
       "    </tr>\n",
       "    <tr>\n",
       "      <th>1</th>\n",
       "      <td>inaura gomes da silva neto</td>\n",
       "      <td>***631834**</td>\n",
       "      <td>agente administrativo</td>\n",
       "      <td>6</td>\n",
       "      <td>ministerio da fazenda</td>\n",
       "      <td>al</td>\n",
       "      <td>superintendencia de administracao mf/al</td>\n",
       "      <td>2</td>\n",
       "      <td>1506</td>\n",
       "      <td>4</td>\n",
       "      <td>32</td>\n",
       "      <td>3</td>\n",
       "      <td>2017-01-01</td>\n",
       "      <td>554.47</td>\n",
       "      <td>2017-01-01</td>\n",
       "    </tr>\n",
       "    <tr>\n",
       "      <th>...</th>\n",
       "      <td>...</td>\n",
       "      <td>...</td>\n",
       "      <td>...</td>\n",
       "      <td>...</td>\n",
       "      <td>...</td>\n",
       "      <td>...</td>\n",
       "      <td>...</td>\n",
       "      <td>...</td>\n",
       "      <td>...</td>\n",
       "      <td>...</td>\n",
       "      <td>...</td>\n",
       "      <td>...</td>\n",
       "      <td>...</td>\n",
       "      <td>...</td>\n",
       "      <td>...</td>\n",
       "    </tr>\n",
       "    <tr>\n",
       "      <th>257</th>\n",
       "      <td>elizama conceicao araujo</td>\n",
       "      <td>***852722**</td>\n",
       "      <td>assistente de administracao</td>\n",
       "      <td>6</td>\n",
       "      <td>instituto nac. de coloniz e ref agraria</td>\n",
       "      <td>rr</td>\n",
       "      <td>divisao de administracao</td>\n",
       "      <td>22</td>\n",
       "      <td>358</td>\n",
       "      <td>4</td>\n",
       "      <td>44</td>\n",
       "      <td>0</td>\n",
       "      <td>1998-01-01</td>\n",
       "      <td>685.86</td>\n",
       "      <td>2019-05-01</td>\n",
       "    </tr>\n",
       "    <tr>\n",
       "      <th>257</th>\n",
       "      <td>maria garcez e silva de moraes</td>\n",
       "      <td>***572501**</td>\n",
       "      <td>assistente de administracao</td>\n",
       "      <td>4</td>\n",
       "      <td>instituto nac. de coloniz e ref agraria</td>\n",
       "      <td>df</td>\n",
       "      <td>coordenacao-geral de gestao de pessoas</td>\n",
       "      <td>7</td>\n",
       "      <td>410</td>\n",
       "      <td>4</td>\n",
       "      <td>51</td>\n",
       "      <td>2</td>\n",
       "      <td>1998-03-01</td>\n",
       "      <td>594.60</td>\n",
       "      <td>2019-07-01</td>\n",
       "    </tr>\n",
       "    <tr>\n",
       "      <th>258</th>\n",
       "      <td>arlinda maria de sousa</td>\n",
       "      <td>***631092**</td>\n",
       "      <td>auxiliar de administracao</td>\n",
       "      <td>4</td>\n",
       "      <td>fundacao nacional de saude</td>\n",
       "      <td>pa</td>\n",
       "      <td>superintendencia estadual-pa</td>\n",
       "      <td>14</td>\n",
       "      <td>70</td>\n",
       "      <td>6</td>\n",
       "      <td>40</td>\n",
       "      <td>7</td>\n",
       "      <td>1998-01-01</td>\n",
       "      <td>543.75</td>\n",
       "      <td>2019-06-01</td>\n",
       "    </tr>\n",
       "    <tr>\n",
       "      <th>258</th>\n",
       "      <td>elizama conceicao araujo</td>\n",
       "      <td>***852722**</td>\n",
       "      <td>assistente de administracao</td>\n",
       "      <td>6</td>\n",
       "      <td>instituto nac. de coloniz e ref agraria</td>\n",
       "      <td>rr</td>\n",
       "      <td>divisao de administracao</td>\n",
       "      <td>22</td>\n",
       "      <td>358</td>\n",
       "      <td>4</td>\n",
       "      <td>44</td>\n",
       "      <td>1</td>\n",
       "      <td>1998-01-01</td>\n",
       "      <td>685.86</td>\n",
       "      <td>2019-06-01</td>\n",
       "    </tr>\n",
       "    <tr>\n",
       "      <th>259</th>\n",
       "      <td>elizama conceicao araujo</td>\n",
       "      <td>***852722**</td>\n",
       "      <td>assistente de administracao</td>\n",
       "      <td>6</td>\n",
       "      <td>instituto nac. de coloniz e ref agraria</td>\n",
       "      <td>rr</td>\n",
       "      <td>divisao de administracao</td>\n",
       "      <td>22</td>\n",
       "      <td>358</td>\n",
       "      <td>4</td>\n",
       "      <td>44</td>\n",
       "      <td>2</td>\n",
       "      <td>1998-01-01</td>\n",
       "      <td>685.86</td>\n",
       "      <td>2019-07-01</td>\n",
       "    </tr>\n",
       "  </tbody>\n",
       "</table>\n",
       "<p>4747135 rows × 15 columns</p>\n",
       "</div>"
      ],
      "text/plain": [
       "                                             Nome          CPF  \\\n",
       "Meses com abono                                                  \n",
       "1                                   silvia berton  ***898018**   \n",
       "1                   francisco ferreira dos santos  ***718473**   \n",
       "1                leticia maria furtado dos santos  ***458762**   \n",
       "1                       ubirajara carneiro junior  ***059943**   \n",
       "1                      inaura gomes da silva neto  ***631834**   \n",
       "...                                           ...          ...   \n",
       "257                      elizama conceicao araujo  ***852722**   \n",
       "257                maria garcez e silva de moraes  ***572501**   \n",
       "258                        arlinda maria de sousa  ***631092**   \n",
       "258                      elizama conceicao araujo  ***852722**   \n",
       "259                      elizama conceicao araujo  ***852722**   \n",
       "\n",
       "                               Descrição do cargo emprego  \\\n",
       "Meses com abono                                             \n",
       "1                  analista tributario rec federal brasil   \n",
       "1                                      agente de portaria   \n",
       "1                                    agente de vigilancia   \n",
       "1                auditor-fiscal da receita federal brasil   \n",
       "1                                   agente administrativo   \n",
       "...                                                   ...   \n",
       "257                           assistente de administracao   \n",
       "257                           assistente de administracao   \n",
       "258                             auxiliar de administracao   \n",
       "258                           assistente de administracao   \n",
       "259                           assistente de administracao   \n",
       "\n",
       "                 Nível de Escolaridade  \\\n",
       "Meses com abono                          \n",
       "1                                    4   \n",
       "1                                    4   \n",
       "1                                    6   \n",
       "1                                    6   \n",
       "1                                    6   \n",
       "...                                ...   \n",
       "257                                  6   \n",
       "257                                  4   \n",
       "258                                  4   \n",
       "258                                  6   \n",
       "259                                  6   \n",
       "\n",
       "                         Denominação do órgão de atuação  \\\n",
       "Meses com abono                                            \n",
       "1                                  ministerio da fazenda   \n",
       "1                                  ministerio da fazenda   \n",
       "1                                  ministerio da fazenda   \n",
       "1                                  ministerio da fazenda   \n",
       "1                                  ministerio da fazenda   \n",
       "...                                                  ...   \n",
       "257              instituto nac. de coloniz e ref agraria   \n",
       "257              instituto nac. de coloniz e ref agraria   \n",
       "258                           fundacao nacional de saude   \n",
       "258              instituto nac. de coloniz e ref agraria   \n",
       "259              instituto nac. de coloniz e ref agraria   \n",
       "\n",
       "                UF da UPAG de vinculação  \\\n",
       "Meses com abono                            \n",
       "1                                     sp   \n",
       "1                                     pi   \n",
       "1                                     pa   \n",
       "1                                     ce   \n",
       "1                                     al   \n",
       "...                                  ...   \n",
       "257                                   rr   \n",
       "257                                   df   \n",
       "258                                   pa   \n",
       "258                                   rr   \n",
       "259                                   rr   \n",
       "\n",
       "                      Denominação unidade organizacional  UF da Residência  \\\n",
       "Meses com abono                                                              \n",
       "1                 sup regional receita federal/8a.rf/srf                26   \n",
       "1                superintendencia de administracao mf/pi                17   \n",
       "1                superintendencia de administracao mf/pa                14   \n",
       "1                 sup regional receita federal/3a.rf/srf                 6   \n",
       "1                superintendencia de administracao mf/al                 2   \n",
       "...                                                  ...               ...   \n",
       "257                             divisao de administracao                22   \n",
       "257               coordenacao-geral de gestao de pessoas                 7   \n",
       "258                         superintendencia estadual-pa                14   \n",
       "258                             divisao de administracao                22   \n",
       "259                             divisao de administracao                22   \n",
       "\n",
       "                 Cidade da residência  Situação servidor  \\\n",
       "Meses com abono                                            \n",
       "1                                2577                  4   \n",
       "1                                2662                  4   \n",
       "1                                 332                  4   \n",
       "1                                 968                  4   \n",
       "1                                1506                  4   \n",
       "...                               ...                ...   \n",
       "257                               358                  4   \n",
       "257                               410                  4   \n",
       "258                                70                  6   \n",
       "258                               358                  4   \n",
       "259                               358                  4   \n",
       "\n",
       "                 Quantidade de anos no Serviço público  \\\n",
       "Meses com abono                                          \n",
       "1                                                   31   \n",
       "1                                                   37   \n",
       "1                                                   33   \n",
       "1                                                   32   \n",
       "1                                                   32   \n",
       "...                                                ...   \n",
       "257                                                 44   \n",
       "257                                                 51   \n",
       "258                                                 40   \n",
       "258                                                 44   \n",
       "259                                                 44   \n",
       "\n",
       "                 Quantidade de meses no Serviço público  \\\n",
       "Meses com abono                                           \n",
       "1                                                     6   \n",
       "1                                                     6   \n",
       "1                                                     8   \n",
       "1                                                     9   \n",
       "1                                                     3   \n",
       "...                                                 ...   \n",
       "257                                                   0   \n",
       "257                                                   2   \n",
       "258                                                   7   \n",
       "258                                                   1   \n",
       "259                                                   2   \n",
       "\n",
       "                Ano/Mês inicial DO ABONO DE PERMANENCIA      VAL        DATE  \n",
       "Meses com abono                                                               \n",
       "1                                            2017-01-01  1638.28  2017-01-01  \n",
       "1                                            2017-01-01   566.27  2017-01-01  \n",
       "1                                            2017-01-01   579.93  2017-01-01  \n",
       "1                                            2017-01-01  3206.31  2017-01-01  \n",
       "1                                            2017-01-01   554.47  2017-01-01  \n",
       "...                                                 ...      ...         ...  \n",
       "257                                          1998-01-01   685.86  2019-05-01  \n",
       "257                                          1998-03-01   594.60  2019-07-01  \n",
       "258                                          1998-01-01   543.75  2019-06-01  \n",
       "258                                          1998-01-01   685.86  2019-06-01  \n",
       "259                                          1998-01-01   685.86  2019-07-01  \n",
       "\n",
       "[4747135 rows x 15 columns]"
      ]
     },
     "execution_count": 47,
     "metadata": {},
     "output_type": "execute_result"
    }
   ],
   "source": [
    "abono_dataset"
   ]
  },
  {
   "cell_type": "code",
   "execution_count": 44,
   "id": "4caa1ce9",
   "metadata": {},
   "outputs": [],
   "source": [
    "#código feito por https://www.vooo.pro/insights/guia-completo-para-criar-time-series-com-codigo-em-python/\n",
    "def test_stationarity(timeseries):\n",
    "    \n",
    "    \n",
    "    #Determing rolling statistics\n",
    "    rolling = timeseries.rolling(12)\n",
    "    rolmean = rolling.mean()\n",
    "    rolstd = rolling.std()\n",
    "\n",
    "    #Plot rolling statistics:\n",
    "    orig = plt.plot(timeseries, color='blue',label='Original')\n",
    "    mean = plt.plot(rolmean, color='red', label='Rolling Mean')\n",
    "    std = plt.plot(rolstd, color='black', label = 'Rolling Std')\n",
    "    plt.legend(loc='best')\n",
    "    plt.title('Rolling Mean & Standard Deviation')\n",
    "    plt.show(block=False)\n",
    "    \n",
    "    #Perform Dickey-Fuller test:\n",
    "    print('Results of Dickey-Fuller Test:')\n",
    "    dftest = adfuller(timeseries, autolag='AIC')\n",
    "    dfoutput = pd.Series(dftest[0:4], index=['Test Statistic','p-value','#Lags Used','Number of Observations Used'])\n",
    "    for key,value in dftest[4].items():\n",
    "        dfoutput['Critical Value (%s)'%key] = value\n",
    "    print(dfoutput)"
   ]
  },
  {
   "cell_type": "code",
   "execution_count": 45,
   "id": "971df650",
   "metadata": {
    "scrolled": true
   },
   "outputs": [
    {
     "data": {
      "image/png": "[encoded data removed]",
      "text/plain": [
       "<Figure size 1224x468 with 1 Axes>"
      ]
     },
     "metadata": {
      "needs_background": "light"
     },
     "output_type": "display_data"
    },
    {
     "name": "stdout",
     "output_type": "stream",
     "text": [
      "Results of Dickey-Fuller Test:\n"
     ]
    }
   ],
   "source": [
    "test_stationarity(abono_dataset[\"VAL\"])"
   ]
  },
  {
   "cell_type": "code",
   "execution_count": 46,
   "id": "f58a4549",
   "metadata": {},
   "outputs": [
    {
     "data": {
      "text/plain": [
       "Meses com abono\n",
       "1      1638.28\n",
       "1       566.27\n",
       "1       579.93\n",
       "1      3206.31\n",
       "1       554.47\n",
       "        ...   \n",
       "257     685.86\n",
       "257     594.60\n",
       "258     543.75\n",
       "258     685.86\n",
       "259     685.86\n",
       "Name: VAL, Length: 4747135, dtype: float64"
      ]
     },
     "execution_count": 46,
     "metadata": {},
     "output_type": "execute_result"
    }
   ],
   "source": [
    "abono_dataset[\"VAL\"]"
   ]
  },
  {
   "cell_type": "code",
   "execution_count": null,
   "id": "dcd728ef",
   "metadata": {},
   "outputs": [],
   "source": []
  }
 ],
 "metadata": {
  "kernelspec": {
   "display_name": "Python 3",
   "language": "python",
   "name": "python3"
  },
  "language_info": {
   "codemirror_mode": {
    "name": "ipython",
    "version": 3
   },
   "file_extension": ".py",
   "mimetype": "text/x-python",
   "name": "python",
   "nbconvert_exporter": "python",
   "pygments_lexer": "ipython3",
   "version": "3.8.8"
  }
 },
 "nbformat": 4,
 "nbformat_minor": 5
}
