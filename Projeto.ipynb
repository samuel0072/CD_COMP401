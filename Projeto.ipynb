{
 "cells": [
  {
   "cell_type": "code",
   "execution_count": 1,
   "id": "b7301be2",
   "metadata": {},
   "outputs": [],
   "source": [
    "import pandas as pd\n",
    "import numpy as np\n",
    "import traceback\n",
    "import datetime\n",
    "import sys"
   ]
  },
  {
   "cell_type": "code",
   "execution_count": 21,
   "id": "aff6e4f4",
   "metadata": {},
   "outputs": [],
   "source": [
    "np.set_printoptions(threshold=sys.maxsize)\n",
    "pd.set_option('display.max_columns', None)"
   ]
  },
  {
   "cell_type": "code",
   "execution_count": 14,
   "id": "37149bfe",
   "metadata": {},
   "outputs": [],
   "source": [
    "def import_data():\n",
    "    path = \"Datasets/\"#diretório dos datasets\n",
    "    \n",
    "    # --------- as linhas abaixo servem para gerar o nome dos arquivos automaticamente\n",
    "    prefix = \"ABONOP_\"#prefixo comun a todos os arquivos\n",
    "    months = ['01', '02', '03', '04', '05', '06', '07', '08', '09', '10', '11', '12']#meses presentes\n",
    "    years = [\"2017\", \"2018\", \"2019\", \"2020\"]#anos presentes\n",
    "    ext = \".csv\"#extensão dos arquivos\n",
    "    \n",
    "    # ------------------------\n",
    "    \n",
    "    columns = [\"Nome\", \"CPF\", \"Descrição do cargo emprego\", \"Nível de Escolaridade\", \"Denominação do órgão de atuação\",\n",
    "              \"UF da UPAG de vinculação\", \"Denominação unidade organizacional\", \"UF da Residência\",\n",
    "              \"Cidade da residência\", \"Situação servidor\", \"Quantidade de anos no Serviço público\",\n",
    "              \"Quantidade de meses no Serviço público\",\"Ano/Mês inicial DO ABONO DE PERMANENCIA\",\"VAL\"] #colunas presentes\n",
    "    \n",
    "    date_columns = [\"Ano/Mês inicial DO ABONO DE PERMANENCIA\"]#colunas que devem ser transformadas em datas, porém no dataset estão como inteiros\n",
    "    float_columns = {\"VAL\":np.float64}#coluna númerica\n",
    "    \n",
    "    datasets = []#esta variavel vai ser usada como uma lista de DataFrames importados\n",
    "    sep = \";\"#separador utilizado nos arquivos\n",
    "    decimal = \".\"#valores decimais são separados por virgula\n",
    "    try:\n",
    "        name = \"\"\n",
    "        for i in years:# esse loop vai importar os datasets ano a ano\n",
    "            for j in months:# esse loop vai importar os datasets mês a mês\n",
    "                name = path + prefix + j + i + ext# concatena as informações do arquivo para formar seu nome\n",
    "\n",
    "                df = pd.read_csv(name, sep =sep, #low_memory = False,\n",
    "                                names = columns, header = 0,\n",
    "                                #warn_bad_lines = True\n",
    "                                encoding = 'cp860', index_col=False)#ver documentação do pandas\n",
    "                date = datetime.date(int(i), int(j), 1)#cria uma data do tipo 1/j/i\n",
    "                df[\"DATE\"] = [date for k in range(df.shape[0])]#adiciona uma coluna com a data\n",
    "                datasets.append(df)\n",
    "    except Exception as e:#ocorreu algum exceção\n",
    "        traceback.print_exc()#printa a pilha de execução\n",
    "        print(\"Erro na planilha: {}\".format(name))#printa a plainlha que ocorreu o erro\n",
    "    finally:\n",
    "        if len(datasets) > 0:\n",
    "            datasets = pd.concat(datasets)#concatena os datasets que foram importados com sucesso\n",
    "        return datasets"
   ]
  },
  {
   "cell_type": "code",
   "execution_count": 15,
   "id": "abcfb1fd",
   "metadata": {
    "scrolled": true
   },
   "outputs": [],
   "source": [
    "datasets = import_data()"
   ]
  },
  {
   "cell_type": "code",
   "execution_count": null,
   "id": "12620c16",
   "metadata": {},
   "outputs": [],
   "source": []
  }
 ],
 "metadata": {
  "kernelspec": {
   "display_name": "Python 3",
   "language": "python",
   "name": "python3"
  },
  "language_info": {
   "codemirror_mode": {
    "name": "ipython",
    "version": 3
   },
   "file_extension": ".py",
   "mimetype": "text/x-python",
   "name": "python",
   "nbconvert_exporter": "python",
   "pygments_lexer": "ipython3",
   "version": "3.8.8"
  }
 },
 "nbformat": 4,
 "nbformat_minor": 5
}
