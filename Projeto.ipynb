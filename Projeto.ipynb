{
 "cells": [
  {
   "cell_type": "code",
   "execution_count": 1,
   "id": "b7301be2",
   "metadata": {},
   "outputs": [],
   "source": [
    "import pandas as pd\n",
    "import numpy as np\n",
    "import traceback\n",
    "import datetime"
   ]
  },
  {
   "cell_type": "code",
   "execution_count": 12,
   "id": "37149bfe",
   "metadata": {},
   "outputs": [],
   "source": [
    "def import_data():\n",
    "    path = \"Datasets/\"#diretório dos datasets\n",
    "    \n",
    "    # --------- as linhas abaixo servem para gerar o nome dos arquivos automaticamente\n",
    "    prefix = \"ABONOP_\"#prefixo comun a todos os arquivos\n",
    "    months = ['01', '02', '03', '04', '05', '06', '07', '08', '09', '10', '11', '12']#meses presentes\n",
    "    years = [\"2017\", \"2018\", \"2019\", \"2020\"]#anos presentes\n",
    "    ext = \".csv\"#extensão dos arquivos\n",
    "    \n",
    "    # ------------------------\n",
    "    \n",
    "    columns = [\"Nome\", \"CPF\", \"Descrição do cargo emprego\", \"Nível de Escolaridade\", \"Denominação do órgão de atuação\",\n",
    "              \"UF da UPAG de vinculação\", \"Denominação unidade organizacional\", \"UF da Residência\",\n",
    "              \"Cidade da residência\", \"Situação servidor\", \"Quantidade de anos no Serviço público\",\n",
    "              \"Quantidade de meses no Serviço público\",\"Ano/Mês inicial DO ABONO DE PERMANENCIA\",\"VAL\"] #colunas presentes\n",
    "    \n",
    "    date_columns = [\"Ano/Mês inicial DO ABONO DE PERMANENCIA\"]#colunas que devem ser transformadas em datas, porém no dataset estão como inteiros\n",
    "    float_columns = {\"VAL\":np.float64}#coluna númerica\n",
    "    \n",
    "    datasets = []#esta variavel vai ser usada como uma lista de DataFrames importados\n",
    "    sep = \";\"#separador utilizado nos arquivos\n",
    "    decimal = \".\"#valores decimais são separados por virgula\n",
    "    try:\n",
    "        name = \"\"\n",
    "        for i in years:# esse loop vai importar os datasets ano a ano\n",
    "            for j in months:# esse loop vai importar os datasets mês a mês\n",
    "                name = path + prefix + j + i + ext# concatena as informações do arquivo para formar seu nome\n",
    "\n",
    "                df = pd.read_csv(name, sep =sep, low_memory = False,\n",
    "                                names = columns, header = 0,\n",
    "                                #warn_bad_lines = True\n",
    "                                )#ver documentação do pandas\n",
    "                date = datetime.date(int(i), int(j), 1)#cria uma data do tipo 1/j/i\n",
    "                df[\"DATE\"] = [date for k in range(df.shape[0])]#adiciona uma coluna com a data\n",
    "                datasets.append(df)\n",
    "    except Exception as e:#ocorreu algum exceção\n",
    "        traceback.print_exc()#printa a pilha de execução\n",
    "        print(\"Erro na planilha: {}\".format(name))#printa a plainlha que ocorreu o erro\n",
    "    finally:\n",
    "        if len(datasets) > 0:\n",
    "            datasets = pd.concat(datasets, ignore_index = True)#concatena os datasets que foram importados com sucesso\n",
    "        return datasets"
   ]
  },
  {
   "cell_type": "code",
   "execution_count": 13,
   "id": "abcfb1fd",
   "metadata": {
    "scrolled": false
   },
   "outputs": [
    {
     "name": "stdout",
     "output_type": "stream",
     "text": [
      "Erro na planilha: Datasets/ABONOP_012017.csv\n"
     ]
    },
    {
     "name": "stderr",
     "output_type": "stream",
     "text": [
      "Traceback (most recent call last):\n",
      "  File \"<ipython-input-12-9a0e359fa8eb>\", line 29, in import_data\n",
      "    df = pd.read_csv(name, sep =sep, low_memory = False,\n",
      "  File \"C:\\Users\\samue\\anaconda3\\lib\\site-packages\\pandas\\util\\_decorators.py\", line 311, in wrapper\n",
      "    return func(*args, **kwargs)\n",
      "  File \"C:\\Users\\samue\\anaconda3\\lib\\site-packages\\pandas\\io\\parsers\\readers.py\", line 586, in read_csv\n",
      "    return _read(filepath_or_buffer, kwds)\n",
      "  File \"C:\\Users\\samue\\anaconda3\\lib\\site-packages\\pandas\\io\\parsers\\readers.py\", line 482, in _read\n",
      "    parser = TextFileReader(filepath_or_buffer, **kwds)\n",
      "  File \"C:\\Users\\samue\\anaconda3\\lib\\site-packages\\pandas\\io\\parsers\\readers.py\", line 811, in __init__\n",
      "    self._engine = self._make_engine(self.engine)\n",
      "  File \"C:\\Users\\samue\\anaconda3\\lib\\site-packages\\pandas\\io\\parsers\\readers.py\", line 1040, in _make_engine\n",
      "    return mapping[engine](self.f, **self.options)  # type: ignore[call-arg]\n",
      "  File \"C:\\Users\\samue\\anaconda3\\lib\\site-packages\\pandas\\io\\parsers\\c_parser_wrapper.py\", line 69, in __init__\n",
      "    self._reader = parsers.TextReader(self.handles.handle, **kwds)\n",
      "  File \"pandas\\_libs\\parsers.pyx\", line 542, in pandas._libs.parsers.TextReader.__cinit__\n",
      "  File \"pandas\\_libs\\parsers.pyx\", line 642, in pandas._libs.parsers.TextReader._get_header\n",
      "  File \"pandas\\_libs\\parsers.pyx\", line 843, in pandas._libs.parsers.TextReader._tokenize_rows\n",
      "  File \"pandas\\_libs\\parsers.pyx\", line 1917, in pandas._libs.parsers.raise_parser_error\n",
      "UnicodeDecodeError: 'utf-8' codec can't decode byte 0xe7 in position 15: invalid continuation byte\n"
     ]
    }
   ],
   "source": [
    "datasets = import_data()"
   ]
  },
  {
   "cell_type": "code",
   "execution_count": null,
   "id": "a6882d1b",
   "metadata": {},
   "outputs": [],
   "source": [
    "LUZINETTE DA SILVA JUNQUEIRA"
   ]
  },
  {
   "cell_type": "code",
   "execution_count": 14,
   "id": "951db0b2",
   "metadata": {},
   "outputs": [
    {
     "data": {
      "text/plain": [
       "[]"
      ]
     },
     "execution_count": 14,
     "metadata": {},
     "output_type": "execute_result"
    }
   ],
   "source": [
    "datasets"
   ]
  },
  {
   "cell_type": "code",
   "execution_count": null,
   "id": "6f3da7c9",
   "metadata": {},
   "outputs": [],
   "source": []
  }
 ],
 "metadata": {
  "kernelspec": {
   "display_name": "Python 3",
   "language": "python",
   "name": "python3"
  },
  "language_info": {
   "codemirror_mode": {
    "name": "ipython",
    "version": 3
   },
   "file_extension": ".py",
   "mimetype": "text/x-python",
   "name": "python",
   "nbconvert_exporter": "python",
   "pygments_lexer": "ipython3",
   "version": "3.8.8"
  }
 },
 "nbformat": 4,
 "nbformat_minor": 5
}
